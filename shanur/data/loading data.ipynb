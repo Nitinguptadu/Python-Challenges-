{
 "cells": [
  {
   "cell_type": "code",
   "execution_count": 1,
   "metadata": {},
   "outputs": [],
   "source": [
    "from pymongo import MongoClient\n",
    "import pandas as pd"
   ]
  },
  {
   "cell_type": "code",
   "execution_count": 2,
   "metadata": {},
   "outputs": [],
   "source": [
    "client = MongoClient('localhost', 27017)\n",
    "db=client.test\n",
    "preprocess = db.preprocess"
   ]
  },
  {
   "cell_type": "code",
   "execution_count": 3,
   "metadata": {},
   "outputs": [
    {
     "data": {
      "text/plain": [
       "{'_id': ObjectId('5eca31c26b499e1111078e4b'),\n",
       " 'Time': '0.00',\n",
       " 'seconds': '0.00',\n",
       " 'Methane': '0.00',\n",
       " 'conc': '2.28',\n",
       " 'ppm': '8.63',\n",
       " 'Ethylene': '-37.13',\n",
       " 'sensor': '-26.62',\n",
       " 'readings': '-8.46',\n",
       " '16 channels': '-0.33',\n",
       " 'Senor1': '3437.73',\n",
       " 'Senor2': '2728.14',\n",
       " 'Senor3': '4054.03',\n",
       " 'Senor4': '4007.89',\n",
       " 'Senor5': '4478.27',\n",
       " 'Senor6': '5056.98',\n",
       " 'Senor7': '3639.09',\n",
       " 'Senor8': '3128.49',\n",
       " 'Senor9': None}"
      ]
     },
     "execution_count": 3,
     "metadata": {},
     "output_type": "execute_result"
    }
   ],
   "source": [
    "preprocess.find_one()"
   ]
  },
  {
   "cell_type": "code",
   "execution_count": null,
   "metadata": {},
   "outputs": [],
   "source": [
    "train = []\n",
    "for i in preprocess.find({}):\n",
    "    \n",
    "    train.append(i)"
   ]
  },
  {
   "cell_type": "code",
   "execution_count": null,
   "metadata": {},
   "outputs": [],
   "source": [
    "train = pd.DataFrame(train)"
   ]
  },
  {
   "cell_type": "code",
   "execution_count": null,
   "metadata": {},
   "outputs": [],
   "source": [
    "test.head()"
   ]
  }
 ],
 "metadata": {
  "kernelspec": {
   "display_name": "Python 3",
   "language": "python",
   "name": "python3"
  },
  "language_info": {
   "codemirror_mode": {
    "name": "ipython",
    "version": 3
   },
   "file_extension": ".py",
   "mimetype": "text/x-python",
   "name": "python",
   "nbconvert_exporter": "python",
   "pygments_lexer": "ipython3",
   "version": "3.7.5"
  }
 },
 "nbformat": 4,
 "nbformat_minor": 2
}
